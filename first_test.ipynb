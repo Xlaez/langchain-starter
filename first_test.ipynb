{
 "cells": [
  {
   "cell_type": "code",
   "execution_count": 1,
   "metadata": {},
   "outputs": [],
   "source": [
    "from langchain.llms import OpenAI"
   ]
  },
  {
   "cell_type": "code",
   "execution_count": 2,
   "metadata": {},
   "outputs": [],
   "source": [
    "llm = OpenAI(temperature=0.9, openai_api_key=\"\")"
   ]
  },
  {
   "cell_type": "code",
   "execution_count": 3,
   "metadata": {},
   "outputs": [
    {
     "name": "stdout",
     "output_type": "stream",
     "text": [
      "\n",
      "\n",
      "1. C\n",
      "2. C++\n",
      "3. Java\n",
      "4. Rust\n",
      "5. Clojure\n",
      "6. D\n",
      "7. Go\n",
      "8. F#\n",
      "9. Haskell\n",
      "10. Julia\n",
      "11. Lua\n",
      "12. Nim\n",
      "13. Python\n",
      "14. R\n",
      "15. Ruby\n",
      "16. Scala\n",
      "17. Swift\n",
      "18. Kotlin\n",
      "19. Erlang\n",
      "20. Prolog\n"
     ]
    }
   ],
   "source": [
    "text = \"Name the 20 fastest programming languages. Ps don't tell me that it depends. Just give me the answer asumming every condition is   constant\"\n",
    "print(llm(text))"
   ]
  }
 ],
 "metadata": {
  "kernelspec": {
   "display_name": "Python 3",
   "language": "python",
   "name": "python3"
  },
  "language_info": {
   "codemirror_mode": {
    "name": "ipython",
    "version": 3
   },
   "file_extension": ".py",
   "mimetype": "text/x-python",
   "name": "python",
   "nbconvert_exporter": "python",
   "pygments_lexer": "ipython3",
   "version": "3.10.6"
  },
  "orig_nbformat": 4
 },
 "nbformat": 4,
 "nbformat_minor": 2
}
